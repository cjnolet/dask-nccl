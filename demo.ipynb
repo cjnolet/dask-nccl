{
 "cells": [
  {
   "cell_type": "code",
   "execution_count": 1,
   "metadata": {},
   "outputs": [],
   "source": [
    "from dask.distributed import Client\n",
    "import os\n",
    "\n",
    "import dask"
   ]
  },
  {
   "cell_type": "markdown",
   "metadata": {},
   "source": [
    "If you have an existing Dask cluster running already, set the scheduler address below. Otherwise, leave it to `None` and a local cluster will be created."
   ]
  },
  {
   "cell_type": "code",
   "execution_count": 10,
   "metadata": {},
   "outputs": [
    {
     "data": {
      "text/html": [
       "<table style=\"border: 2px solid white;\">\n",
       "<tr>\n",
       "<td style=\"vertical-align: top; border: 0px solid white\">\n",
       "<h3>Client</h3>\n",
       "<ul>\n",
       "  <li><b>Scheduler: </b>tcp://10.2.168.161:8786\n",
       "  <li><b>Dashboard: </b><a href='http://10.2.168.161:8787/status' target='_blank'>http://10.2.168.161:8787/status</a>\n",
       "</ul>\n",
       "</td>\n",
       "<td style=\"vertical-align: top; border: 0px solid white\">\n",
       "<h3>Cluster</h3>\n",
       "<ul>\n",
       "  <li><b>Workers: </b>10</li>\n",
       "  <li><b>Cores: </b>10</li>\n",
       "  <li><b>Memory: </b>48.00 GB</li>\n",
       "</ul>\n",
       "</td>\n",
       "</tr>\n",
       "</table>"
      ],
      "text/plain": [
       "<Client: scheduler='tcp://10.2.168.161:8786' processes=10 cores=10>"
      ]
     },
     "execution_count": 10,
     "metadata": {},
     "output_type": "execute_result"
    }
   ],
   "source": [
    "scheduler_address = \"tcp://10.2.168.161:8786\"\n",
    "\n",
    "if scheduler_address is None:\n",
    "    from dask_cuda import LocalCUDACluster\n",
    "    cluster = LocalCUDACluster()\n",
    "    c = Client(cluster)\n",
    "else:\n",
    "    c = Client(scheduler_address)\n",
    "c"
   ]
  },
  {
   "cell_type": "code",
   "execution_count": 11,
   "metadata": {},
   "outputs": [],
   "source": [
    "from nccl_example import NCCL_Clique, unique_id\n",
    "import random\n",
    "from dask.distributed import wait"
   ]
  },
  {
   "cell_type": "code",
   "execution_count": 12,
   "metadata": {},
   "outputs": [],
   "source": [
    "from dask import delayed\n",
    "import dask.dataframe as dd\n",
    "import numba.cuda\n",
    "import cudf\n",
    "import numpy as np"
   ]
  },
  {
   "cell_type": "code",
   "execution_count": 13,
   "metadata": {},
   "outputs": [],
   "source": [
    "from tornado import gen\n",
    "from dask.distributed import default_client\n",
    "from toolz import first\n",
    "import logging\n",
    "import dask.dataframe as dd\n",
    "\n",
    "import dask_cudf\n",
    "import numpy as np\n",
    "import cudf\n",
    "import pandas as pd\n",
    "\n",
    "from dask.distributed import wait\n",
    "\n",
    "\n",
    "def parse_host_port(address):\n",
    "    if '://' in address:\n",
    "        address = address.rsplit('://', 1)[1]\n",
    "    host, port = address.split(':')\n",
    "    port = int(port)\n",
    "    return host, port\n",
    "\n",
    "\n",
    "def build_host_dict(workers):\n",
    "    hosts = set(map(lambda x: parse_host_port(x), workers))\n",
    "    hosts_dict = {}\n",
    "    for host, port in hosts:\n",
    "        if host not in hosts_dict:\n",
    "            hosts_dict[host] = set([port])\n",
    "        else:\n",
    "            hosts_dict[host].add(port)\n",
    "\n",
    "    return hosts_dict\n",
    "\n",
    "def _build_host_dict(gpu_futures, client):\n",
    "    \"\"\"\n",
    "    Helper function to build a dictionary mapping workers to parts\n",
    "    that currently hold the parts of given futures.\n",
    "    :param gpu_futures:\n",
    "    :param client:\n",
    "    :return:\n",
    "    \"\"\"\n",
    "    who_has = client.who_has(gpu_futures)\n",
    "\n",
    "    key_to_host_dict = {}\n",
    "    for key in who_has:\n",
    "        key_to_host_dict[key] = parse_host_port(who_has[key][0])\n",
    "\n",
    "    hosts_to_key_dict = {}\n",
    "    for key, host in key_to_host_dict.items():\n",
    "        if host not in hosts_to_key_dict:\n",
    "            hosts_to_key_dict[host] = set([key])\n",
    "        else:\n",
    "            hosts_to_key_dict[host].add(key)\n",
    "\n",
    "    workers = [key[0] for key in list(who_has.values())]\n",
    "    return build_host_dict(workers)\n",
    "\n",
    "def to_gpu_matrix(i):\n",
    "    return i\n",
    "\n",
    "@gen.coroutine\n",
    "def _get_mg_info(ddf):\n",
    "    \"\"\"\n",
    "    Given a Dask cuDF, extract number of dimensions and convert\n",
    "    the pieces of the Dask cuDF into Numba arrays, which can\n",
    "    be passed into the kNN algorithm.\n",
    "    build a\n",
    "    :param ddf:\n",
    "    :return:\n",
    "    \"\"\"\n",
    "\n",
    "    client = default_client()\n",
    "\n",
    "    if isinstance(ddf, dd.DataFrame):\n",
    "        cols = len(ddf.columns)\n",
    "        parts = ddf.to_delayed()\n",
    "        parts = client.compute(parts)\n",
    "        yield wait(parts)\n",
    "    else:\n",
    "        raise Exception(\"Input should be a Dask DataFrame\")\n",
    "\n",
    "    key_to_part_dict = dict([(str(part.key), part) for part in parts])\n",
    "    who_has = yield client.who_has(parts)\n",
    "\n",
    "    worker_map = []\n",
    "    for key, workers in who_has.items():\n",
    "        worker = parse_host_port(first(workers))\n",
    "        worker_map.append((worker, key_to_part_dict[key]))\n",
    "\n",
    "    gpu_data = [(worker, client.submit(to_gpu_matrix, part,\n",
    "                                       workers=[worker]))\n",
    "                for worker, part in worker_map]\n",
    "\n",
    "    yield wait(gpu_data)\n",
    "\n",
    "    raise gen.Return((gpu_data, cols))\n",
    "    \n",
    "import dask_cudf\n",
    "    \n",
    "def create_df(f, m, n):\n",
    "    \n",
    "    print(\"In function\")\n",
    "    X = np.ones((m, n), dtype = np.float32)\n",
    "    \n",
    "    \n",
    "    print(\"Creatin df\")\n",
    "    ret = cudf.DataFrame([(i,\n",
    "                           X[:, i].astype(np.float32)) for i in range(n)],\n",
    "                         index=cudf.dataframe.RangeIndex(f * m,\n",
    "                                                         f * m + m, 1))\n",
    "    \n",
    "    print(\"done\")\n",
    "    return ret\n",
    "\n",
    "def get_meta(df):\n",
    "    ret = df.iloc[:0]\n",
    "    return ret\n",
    "\n",
    "def gen_dask_cudf(nrows, ncols):\n",
    "    workers = c.has_what().keys()\n",
    "\n",
    "    # Create dfs on each worker (gpu)\n",
    "    dfs = [c.submit(create_df, n, nrows, ncols, workers=[worker])\n",
    "           for worker, n in list(zip(workers, list(range(len(workers)))))]\n",
    "    # Wait for completion\n",
    "    wait(dfs)\n",
    "\n",
    "    meta = c.submit(get_meta, dfs[0]).result()\n",
    "    return dask_cudf.from_delayed(dfs, meta=meta)\n",
    "    \n"
   ]
  },
  {
   "cell_type": "code",
   "execution_count": 14,
   "metadata": {},
   "outputs": [],
   "source": [
    "class Dask_NCCL_Demo:\n",
    "    \n",
    "    def __init__(self, client):\n",
    "        self.client = client\n",
    "    \n",
    "    @staticmethod\n",
    "    def func_parse_host_port_(address):\n",
    "        if '://' in address:\n",
    "            address = address.rsplit('://', 1)[1]\n",
    "        host, port = address.split(':')\n",
    "        port = int(port)\n",
    "        return host, port\n",
    "    \n",
    "    @staticmethod\n",
    "    def func_init_(workerId, nWorkers, uniqueId):\n",
    "        w = dask.distributed.get_worker()\n",
    "        \n",
    "        print(\"UNIQUEID: \"  + str(uniqueId))\n",
    "        \n",
    "        print(\"Hello World! from ip=%s worker=%s/%d\" % \\\n",
    "              (w.address, w.name, nWorkers))\n",
    "        a = NCCL_Clique(workerId, nWorkers)\n",
    "        a.create_clique(uniqueId)\n",
    "\n",
    "        return a\n",
    "    \n",
    "    @staticmethod\n",
    "    def func_get_size_(world, r):\n",
    "        return world.get_clique_size()\n",
    "    \n",
    "    @staticmethod\n",
    "    def func_get_rank_(world, r):\n",
    "        return world.get_rank()\n",
    "    \n",
    "    @staticmethod\n",
    "    def func_get_device_(world, r):\n",
    "        return world.get_device()\n",
    "\n",
    "    @staticmethod\n",
    "    def func_test_all_reduce_(world, r):\n",
    "        return world.test_all_reduce()\n",
    "    \n",
    "    \n",
    "    @staticmethod\n",
    "    def get_meta(df):\n",
    "        return df.iloc[:0]\n",
    "    \n",
    "    @staticmethod\n",
    "    def p(i, r):\n",
    "        print(\"COMB: \" + str(i))\n",
    "    \n",
    "    @staticmethod\n",
    "    def func_test_reduce_on_partition(world_df, root_rank, r):\n",
    "        \"\"\"\n",
    "        This function is executed on the workers and performs the necessary\n",
    "        data preparation, as well as calling the cython-wrapped C++ \"algorithm\"\n",
    "        function(s), returning a cuDF with results, if necessary. \n",
    "        \n",
    "        The client will construct a Dask cuDF out of the cuDFs returned from\n",
    "        this function, if necessary. \n",
    "        \"\"\"\n",
    "\n",
    "        world, df = world_df\n",
    "\n",
    "        # Build output array only for the root rank\n",
    "        if world.get_rank() == root_rank:\n",
    "            out_gpu_mat = numba.cuda.to_device(np.zeros((df.shape[0], df.shape[1]),\n",
    "                                                        dtype=np.float32, order = \"F\"))\n",
    "            out_df = cudf.DataFrame(index=cudf.dataframe.RangeIndex(0, df.shape[0]))\n",
    "            \n",
    "        else:\n",
    "            out_gpu_mat = numba.cuda.device_array((1, 1), dtype=np.float32)\n",
    "            out_df = None\n",
    "\n",
    "        # Execute our cython-wrapped C++ \"algorithm\"\n",
    "        world.test_on_partition(df, root_rank, out_gpu_mat)\n",
    "\n",
    "        # Build cudf with results\n",
    "        if world.get_rank() == root_rank:\n",
    "            for i in range(0, out_gpu_mat.shape[1]):\n",
    "                out_df[str(i)] = out_gpu_mat[:, i]\n",
    "        return out_df\n",
    "\n",
    "    def test_end_to_end(self, dask_cudf):\n",
    "        \"\"\"\n",
    "        An end to end example to mimic a typical Dask cuML algorithm using\n",
    "        OPG semantics. This function is executed on the client.\n",
    "        \n",
    "        The following steps are taken with Dask cuDF as input:\n",
    "        1. Co-locate Dask cuDF partitions with cuml NCCL clique object on each worker\n",
    "        2. Run the algorithm, extracting the Numba device memory pointer for each partition\n",
    "           and allocating necessary output memory on device for constructing the cuDF \n",
    "           partition(s) that will be returned to the user. \n",
    "        3. Construct Dask cuDF from the futures containing the cuDFs returned from local \n",
    "           \"algorithm\" functions on each worker. \n",
    "        \"\"\"\n",
    "        \n",
    "        # Keep the futures around so the GPU memory doesn't get\n",
    "        # deallocated on the workers.\n",
    "        gpu_futures, cols = c.sync(_get_mg_info, X)\n",
    "\n",
    "        worker_world_map = dict(map(lambda x: (x[1], x[2]), self.clique))\n",
    "        \n",
    "        # Combine dask_cudf partitions with their local \"world\" instance.\n",
    "        combined = list(map(delayed, [(worker_world_map[w], f) for w, f in gpu_futures]))\n",
    "        combined = c.compute(combined)\n",
    "        wait(combined)\n",
    "        \n",
    "        f = [c.submit(Dask_NCCL_Demo.p, f, random.random()) for f in combined]\n",
    "        wait(f)\n",
    "\n",
    "        # Run our \"algorithm\" to perform reduce \n",
    "        f = [c.submit(Dask_NCCL_Demo.func_test_reduce_on_partition, f, 0, random.random()) for f in combined]\n",
    "        wait(f)\n",
    "        \n",
    "        # Convert result back into a dask_cudf\n",
    "        dfs = [d for d in f if d.type != type(None)]\n",
    "        meta = c.submit(Dask_NCCL_Demo.get_meta, dfs[0]).result()\n",
    "        ddf = dd.from_delayed(dfs, meta=meta)\n",
    "        \n",
    "        return ddf\n",
    "    \n",
    "    def worker_ranks(self):\n",
    "        return dict(list(map(lambda x: (x[1], x[0]), self.clique)))\n",
    "    \n",
    "    \n",
    "    def run_func_on_workers(self, func):\n",
    "        f = [c.submit(func, a, random.random()) for i, w, a in self.clique]\n",
    "        wait(f)\n",
    "        return [a.result() for a in f]\n",
    "\n",
    "    def get_workers_(self):\n",
    "        return list(map(lambda x: Dask_NCCL_Demo.func_parse_host_port_(x), self.client.has_what().keys()))\n",
    "    \n",
    "    def init(self, uniqueId):\n",
    "        workers = self.get_workers_()\n",
    "        workers_indices = list(zip(workers, range(len(workers))))\n",
    "\n",
    "        self.clique = [(idx, worker, self.client.submit(Dask_NCCL_Demo.func_init_, \n",
    "                                           idx, \n",
    "                                           len(workers), \n",
    "                                           uniqueId,\n",
    "                                           workers=[worker]))\n",
    "             for worker, idx in workers_indices]\n",
    "        \n",
    "    def get_clique_size(self):\n",
    "        return self.run_func_on_workers(Dask_NCCL_Demo.func_get_size_)\n",
    "\n",
    "    def get_rank(self):\n",
    "        return self.run_func_on_workers(Dask_NCCL_Demo.func_get_rank_)\n",
    "    \n",
    "    def test_all_reduce(self):\n",
    "        return self.run_func_on_workers(Dask_NCCL_Demo.func_test_all_reduce_)"
   ]
  },
  {
   "cell_type": "markdown",
   "metadata": {},
   "source": [
    "First demonstration will show that NCCL works within Dask as expected. This includes:\n",
    "1. Creation of a NCCL clique using Dask workers to broadcast the ncclUniqueId\n",
    "2. Demonstrating the NCCL clique successfully performs collective comms\n",
    "3. All calls to the underlying NCCL comm are made through the cuML comms facade. "
   ]
  },
  {
   "cell_type": "code",
   "execution_count": 15,
   "metadata": {},
   "outputs": [],
   "source": [
    "world_id = unique_id()"
   ]
  },
  {
   "cell_type": "code",
   "execution_count": 16,
   "metadata": {},
   "outputs": [],
   "source": [
    "demo = Dask_NCCL_Demo(c)\n",
    "demo.init(world_id)"
   ]
  },
  {
   "cell_type": "code",
   "execution_count": 17,
   "metadata": {},
   "outputs": [
    {
     "data": {
      "text/plain": [
       "[10, 10, 10, 10, 10, 10, 10, 10, 10, 10]"
      ]
     },
     "execution_count": 17,
     "metadata": {},
     "output_type": "execute_result"
    }
   ],
   "source": [
    "demo.get_clique_size()"
   ]
  },
  {
   "cell_type": "code",
   "execution_count": 18,
   "metadata": {},
   "outputs": [
    {
     "data": {
      "text/plain": [
       "[0, 1, 2, 3, 4, 5, 6, 7, 8, 9]"
      ]
     },
     "execution_count": 18,
     "metadata": {},
     "output_type": "execute_result"
    }
   ],
   "source": [
    "demo.get_rank()"
   ]
  },
  {
   "cell_type": "code",
   "execution_count": 19,
   "metadata": {},
   "outputs": [
    {
     "data": {
      "text/plain": [
       "{('10.2.168.161', 36340): 0,\n",
       " ('10.2.168.161', 43846): 1,\n",
       " ('10.31.241.47', 32915): 2,\n",
       " ('10.31.241.47', 34653): 3,\n",
       " ('10.31.241.47', 35974): 4,\n",
       " ('10.31.241.47', 36998): 5,\n",
       " ('10.31.241.47', 37885): 6,\n",
       " ('10.31.241.47', 44116): 7,\n",
       " ('10.31.241.47', 46335): 8,\n",
       " ('10.31.241.47', 46459): 9}"
      ]
     },
     "execution_count": 19,
     "metadata": {},
     "output_type": "execute_result"
    }
   ],
   "source": [
    "demo.worker_ranks()"
   ]
  },
  {
   "cell_type": "code",
   "execution_count": 20,
   "metadata": {},
   "outputs": [],
   "source": [
    "for result in demo.test_all_reduce():\n",
    "    assert result == True"
   ]
  },
  {
   "cell_type": "code",
   "execution_count": 21,
   "metadata": {},
   "outputs": [
    {
     "data": {
      "text/plain": [
       "[('10.2.168.161', 36340),\n",
       " ('10.2.168.161', 43846),\n",
       " ('10.31.241.47', 32915),\n",
       " ('10.31.241.47', 34653),\n",
       " ('10.31.241.47', 35974),\n",
       " ('10.31.241.47', 36998),\n",
       " ('10.31.241.47', 37885),\n",
       " ('10.31.241.47', 44116),\n",
       " ('10.31.241.47', 46335),\n",
       " ('10.31.241.47', 46459)]"
      ]
     },
     "execution_count": 21,
     "metadata": {},
     "output_type": "execute_result"
    }
   ],
   "source": [
    "demo.get_workers_()"
   ]
  },
  {
   "cell_type": "markdown",
   "metadata": {},
   "source": [
    "The second demonstration will show that we can take a Dask cuDF and utilize NCCL on the workers hosting its partitions. This includes:\n",
    "1. Initializing a NCCL clique with the workers that host partitions underlying the Dask cuDF\n",
    "2. Perform a collective comm operation across the partitions using only the cuML comms facade to communicate with the NCCL comm. \n",
    "3. Output a Dask cuDF with the results of the collective comm. "
   ]
  },
  {
   "cell_type": "code",
   "execution_count": 22,
   "metadata": {},
   "outputs": [
    {
     "name": "stdout",
     "output_type": "stream",
     "text": [
      "[<Future: status: pending, key: create_df-74c1c63d44405e22b072b76522800727>, <Future: status: pending, key: create_df-7e4bbcf8cb3181ed9fee2e58fb524d17>, <Future: status: pending, key: create_df-58aaacb2074959dea0db137ad230fd8b>, <Future: status: pending, key: create_df-274bd4690a0324e6c8028b419920597e>, <Future: status: pending, key: create_df-9bf38a60d10f44cbf12b56cfa8cfbada>, <Future: status: pending, key: create_df-83dc65a891868f55b6c8018a892bd502>, <Future: status: pending, key: create_df-5e3bd5a17fec7ee850c66856bfd0e975>, <Future: status: pending, key: create_df-238773266720a0bc61a28bd54220c87a>, <Future: status: pending, key: create_df-b5fca03a802cde9582cf1827f319fb86>, <Future: status: pending, key: create_df-2d253ffbb702305be828b9a152f8c8bd>]\n",
      "Done: [<Future: status: finished, type: DataFrame, key: create_df-74c1c63d44405e22b072b76522800727>, <Future: status: finished, type: DataFrame, key: create_df-7e4bbcf8cb3181ed9fee2e58fb524d17>, <Future: status: finished, type: DataFrame, key: create_df-58aaacb2074959dea0db137ad230fd8b>, <Future: status: finished, type: DataFrame, key: create_df-274bd4690a0324e6c8028b419920597e>, <Future: status: finished, type: DataFrame, key: create_df-9bf38a60d10f44cbf12b56cfa8cfbada>, <Future: status: finished, type: DataFrame, key: create_df-83dc65a891868f55b6c8018a892bd502>, <Future: status: finished, type: DataFrame, key: create_df-5e3bd5a17fec7ee850c66856bfd0e975>, <Future: status: finished, type: DataFrame, key: create_df-238773266720a0bc61a28bd54220c87a>, <Future: status: finished, type: DataFrame, key: create_df-b5fca03a802cde9582cf1827f319fb86>, <Future: status: finished, type: DataFrame, key: create_df-2d253ffbb702305be828b9a152f8c8bd>]\n"
     ]
    }
   ],
   "source": [
    "X = gen_dask_cudf(10, 50)"
   ]
  },
  {
   "cell_type": "code",
   "execution_count": 23,
   "metadata": {},
   "outputs": [
    {
     "data": {
      "text/plain": [
       "{'tcp://10.2.168.161:36340': ('func_init_-decbf5420e8d0e5b2f5d833e549e5d52',\n",
       "  'create_df-74c1c63d44405e22b072b76522800727'),\n",
       " 'tcp://10.2.168.161:43846': ('func_init_-a178be5013ba44c6e383a38903a76e94',\n",
       "  'create_df-7e4bbcf8cb3181ed9fee2e58fb524d17'),\n",
       " 'tcp://10.31.241.47:32915': ('create_df-58aaacb2074959dea0db137ad230fd8b',\n",
       "  'func_init_-fa3e7441a1bfa059eabc74e975d9ffce'),\n",
       " 'tcp://10.31.241.47:34653': ('func_init_-b8edb4e67bcaccd5a9159ad10da8decc',\n",
       "  'create_df-274bd4690a0324e6c8028b419920597e'),\n",
       " 'tcp://10.31.241.47:35974': ('create_df-9bf38a60d10f44cbf12b56cfa8cfbada',\n",
       "  'func_init_-65493ff4b3a79e50f295f2df1edc9561'),\n",
       " 'tcp://10.31.241.47:36998': ('func_init_-712659faa8f38204937a9b6c36e36873',\n",
       "  'create_df-83dc65a891868f55b6c8018a892bd502'),\n",
       " 'tcp://10.31.241.47:37885': ('create_df-5e3bd5a17fec7ee850c66856bfd0e975',\n",
       "  'func_init_-ec2f891cb6ac59c6c829f0bd2a11e588'),\n",
       " 'tcp://10.31.241.47:44116': ('create_df-238773266720a0bc61a28bd54220c87a',\n",
       "  'func_init_-4e47c03d2cfd15f2b461dcb30f7754c4'),\n",
       " 'tcp://10.31.241.47:46335': ('func_init_-0e0b5666a1eb8a1f6c7aebc7a2dde238',\n",
       "  'create_df-b5fca03a802cde9582cf1827f319fb86'),\n",
       " 'tcp://10.31.241.47:46459': ('create_df-2d253ffbb702305be828b9a152f8c8bd',\n",
       "  'func_init_-567b3ddb923264e5baf20c38cfd1540f')}"
      ]
     },
     "execution_count": 23,
     "metadata": {},
     "output_type": "execute_result"
    }
   ],
   "source": [
    "c.has_what()"
   ]
  },
  {
   "cell_type": "code",
   "execution_count": 24,
   "metadata": {},
   "outputs": [],
   "source": [
    "result = demo.test_end_to_end(X)"
   ]
  },
  {
   "cell_type": "code",
   "execution_count": 25,
   "metadata": {},
   "outputs": [
    {
     "name": "stdout",
     "output_type": "stream",
     "text": [
      "<dask_cudf.DataFrame | 2 tasks | 1 npartitions>\n"
     ]
    }
   ],
   "source": [
    "print(str(result))"
   ]
  },
  {
   "cell_type": "code",
   "execution_count": 26,
   "metadata": {},
   "outputs": [
    {
     "name": "stdout",
     "output_type": "stream",
     "text": [
      "      0     1     2     3     4     5     6 ...    49\n",
      "0  10.0  10.0  10.0  10.0  10.0  10.0  10.0 ...  10.0\n",
      "1  10.0  10.0  10.0  10.0  10.0  10.0  10.0 ...  10.0\n",
      "2  10.0  10.0  10.0  10.0  10.0  10.0  10.0 ...  10.0\n",
      "3  10.0  10.0  10.0  10.0  10.0  10.0  10.0 ...  10.0\n",
      "4  10.0  10.0  10.0  10.0  10.0  10.0  10.0 ...  10.0\n",
      "5  10.0  10.0  10.0  10.0  10.0  10.0  10.0 ...  10.0\n",
      "6  10.0  10.0  10.0  10.0  10.0  10.0  10.0 ...  10.0\n",
      "7  10.0  10.0  10.0  10.0  10.0  10.0  10.0 ...  10.0\n",
      "8  10.0  10.0  10.0  10.0  10.0  10.0  10.0 ...  10.0\n",
      "9  10.0  10.0  10.0  10.0  10.0  10.0  10.0 ...  10.0\n",
      "[42 more columns]\n"
     ]
    }
   ],
   "source": [
    "print(str(result.compute()))"
   ]
  },
  {
   "cell_type": "code",
   "execution_count": null,
   "metadata": {},
   "outputs": [],
   "source": []
  },
  {
   "cell_type": "code",
   "execution_count": null,
   "metadata": {},
   "outputs": [],
   "source": []
  }
 ],
 "metadata": {
  "kernelspec": {
   "display_name": "Python (cuml4)",
   "language": "python",
   "name": "python3"
  },
  "language_info": {
   "codemirror_mode": {
    "name": "ipython",
    "version": 3
   },
   "file_extension": ".py",
   "mimetype": "text/x-python",
   "name": "python",
   "nbconvert_exporter": "python",
   "pygments_lexer": "ipython3",
   "version": "3.7.3"
  }
 },
 "nbformat": 4,
 "nbformat_minor": 2
}
