{
 "cells": [
  {
   "cell_type": "code",
   "execution_count": 1,
   "metadata": {},
   "outputs": [],
   "source": [
    "try:\n",
    "    import inotify\n",
    "except ImportError as e:\n",
    "    !pip install inotify"
   ]
  },
  {
   "cell_type": "code",
   "execution_count": 2,
   "metadata": {},
   "outputs": [],
   "source": [
    "from dask.distributed import Client\n",
    "import subprocess as subp\n",
    "import os\n",
    "import dask\n",
    "import inotify.adapters"
   ]
  },
  {
   "cell_type": "code",
   "execution_count": 3,
   "metadata": {},
   "outputs": [],
   "source": [
    "from dask_cuda import LocalCUDACluster\n",
    "cluster = LocalCUDACluster()"
   ]
  },
  {
   "cell_type": "code",
   "execution_count": 4,
   "metadata": {},
   "outputs": [
    {
     "data": {
      "text/html": [
       "<table style=\"border: 2px solid white;\">\n",
       "<tr>\n",
       "<td style=\"vertical-align: top; border: 0px solid white\">\n",
       "<h3>Client</h3>\n",
       "<ul>\n",
       "  <li><b>Scheduler: </b>tcp://127.0.0.1:34054\n",
       "  <li><b>Dashboard: </b><a href='http://127.0.0.1:8787/status' target='_blank'>http://127.0.0.1:8787/status</a>\n",
       "</ul>\n",
       "</td>\n",
       "<td style=\"vertical-align: top; border: 0px solid white\">\n",
       "<h3>Cluster</h3>\n",
       "<ul>\n",
       "  <li><b>Workers: </b>2</li>\n",
       "  <li><b>Cores: </b>2</li>\n",
       "  <li><b>Memory: </b>50.39 GB</li>\n",
       "</ul>\n",
       "</td>\n",
       "</tr>\n",
       "</table>"
      ],
      "text/plain": [
       "<Client: scheduler='tcp://127.0.0.1:34054' processes=2 cores=2>"
      ]
     },
     "execution_count": 4,
     "metadata": {},
     "output_type": "execute_result"
    }
   ],
   "source": [
    "c = Client(cluster)\n",
    "c"
   ]
  },
  {
   "cell_type": "code",
   "execution_count": 5,
   "metadata": {},
   "outputs": [],
   "source": [
    "from nccl_example import NCCL_World\n",
    "import random\n",
    "from dask.distributed import wait"
   ]
  },
  {
   "cell_type": "code",
   "execution_count": 6,
   "metadata": {},
   "outputs": [],
   "source": [
    "class Dask_MPI_Demo:\n",
    "    \n",
    "    def __init__(self, client):\n",
    "        self.client = client\n",
    "    \n",
    "    @staticmethod\n",
    "    def func_parse_host_port_(address):\n",
    "        if '://' in address:\n",
    "            address = address.rsplit('://', 1)[1]\n",
    "        host, port = address.split(':')\n",
    "        port = int(port)\n",
    "        return host, port\n",
    "    \n",
    "    @staticmethod\n",
    "    def func_init_(workerId, nWorkers, uniqueId):\n",
    "        w = dask.distributed.get_worker()\n",
    "        print(\"Hello World! from ip=%s worker=%s/%d\" % \\\n",
    "              (w.address, w.name, nWorkers))\n",
    "        a = NCCL_World(workerId, nWorkers)\n",
    "        a.create_builder(uniqueId)\n",
    "\n",
    "        return a\n",
    "    \n",
    "    @staticmethod\n",
    "    def func_get_size_(world, r):\n",
    "        return world.get_clique_size()\n",
    "    \n",
    "    @staticmethod\n",
    "    def func_get_rank_(world, r):\n",
    "        return world.get_rank()\n",
    "    \n",
    "    @staticmethod\n",
    "    def func_get_device_(world, r):\n",
    "        return world.get_device()\n",
    "        \n",
    "        \n",
    "    def get_workers_(self):\n",
    "        return list(map(lambda x: Dask_MPI_Demo.func_parse_host_port_(x), self.client.has_what().keys()))\n",
    "    \n",
    "    def init(self, uniqueId):\n",
    "        workers = self.get_workers_()\n",
    "        workers_indices = list(zip(workers, range(len(workers))))\n",
    "\n",
    "        self.clients = [(idx, worker, self.client.submit(Dask_MPI_Demo.func_init_, \n",
    "                                           idx, \n",
    "                                           len(workers), \n",
    "                                           uniqueId,\n",
    "                                           workers=[worker]))\n",
    "             for worker, idx in workers_indices]\n",
    "        \n",
    "        print(str(self.clients))\n",
    "        \n",
    "    def get_clique_size(self):\n",
    "        return [c.submit(Dask_MPI_Demo.func_get_size_, a, random.random()).result() for i, w, a in self.clients]\n",
    "    "
   ]
  },
  {
   "cell_type": "code",
   "execution_count": 7,
   "metadata": {},
   "outputs": [
    {
     "data": {
      "text/plain": [
       "b'nccl-50709-0'"
      ]
     },
     "execution_count": 7,
     "metadata": {},
     "output_type": "execute_result"
    }
   ],
   "source": [
    "local_world = NCCL_World(-1, -1).unique_id()\n",
    "local_world"
   ]
  },
  {
   "cell_type": "code",
   "execution_count": 8,
   "metadata": {},
   "outputs": [
    {
     "name": "stdout",
     "output_type": "stream",
     "text": [
      "[(0, ('127.0.0.1', 43536), <Future: status: pending, key: func_init_-a7e97a4a9cd45b41e46ef7d572f0f9d4>), (1, ('127.0.0.1', 46586), <Future: status: pending, key: func_init_-aec3e8330486f88a4880f6189399a073>)]\n"
     ]
    }
   ],
   "source": [
    "demo = Dask_MPI_Demo(c)\n",
    "demo.init(local_world)"
   ]
  },
  {
   "cell_type": "code",
   "execution_count": 9,
   "metadata": {},
   "outputs": [
    {
     "data": {
      "text/plain": [
       "[(0,\n",
       "  ('127.0.0.1', 43536),\n",
       "  <Future: status: finished, type: NCCL_World, key: func_init_-a7e97a4a9cd45b41e46ef7d572f0f9d4>),\n",
       " (1,\n",
       "  ('127.0.0.1', 46586),\n",
       "  <Future: status: finished, type: NCCL_World, key: func_init_-aec3e8330486f88a4880f6189399a073>)]"
      ]
     },
     "execution_count": 9,
     "metadata": {},
     "output_type": "execute_result"
    }
   ],
   "source": [
    "demo.clients"
   ]
  },
  {
   "cell_type": "code",
   "execution_count": 10,
   "metadata": {},
   "outputs": [],
   "source": [
    "rank_futures = demo.get_clique_size()"
   ]
  },
  {
   "cell_type": "code",
   "execution_count": 11,
   "metadata": {},
   "outputs": [
    {
     "data": {
      "text/plain": [
       "[2, 2]"
      ]
     },
     "execution_count": 11,
     "metadata": {},
     "output_type": "execute_result"
    }
   ],
   "source": [
    "rank_futures"
   ]
  },
  {
   "cell_type": "code",
   "execution_count": 12,
   "metadata": {},
   "outputs": [
    {
     "name": "stdout",
     "output_type": "stream",
     "text": [
      "Client Ranks: [1]\n"
     ]
    }
   ],
   "source": [
    "print(\"Client Ranks: \" + str(demo.get_client_ranks()))"
   ]
  },
  {
   "cell_type": "code",
   "execution_count": 13,
   "metadata": {},
   "outputs": [
    {
     "name": "stdout",
     "output_type": "stream",
     "text": [
      "Server Rank: 0\n"
     ]
    }
   ],
   "source": [
    "print(\"Server Rank: \" + str(demo.get_server_rank()))"
   ]
  },
  {
   "cell_type": "code",
   "execution_count": 17,
   "metadata": {},
   "outputs": [],
   "source": [
    "demo.finalize()"
   ]
  },
  {
   "cell_type": "code",
   "execution_count": null,
   "metadata": {},
   "outputs": [],
   "source": []
  }
 ],
 "metadata": {
  "kernelspec": {
   "display_name": "Python (cuml4)",
   "language": "python",
   "name": "python3"
  },
  "language_info": {
   "codemirror_mode": {
    "name": "ipython",
    "version": 3
   },
   "file_extension": ".py",
   "mimetype": "text/x-python",
   "name": "python",
   "nbconvert_exporter": "python",
   "pygments_lexer": "ipython3",
   "version": "3.7.3"
  }
 },
 "nbformat": 4,
 "nbformat_minor": 2
}
