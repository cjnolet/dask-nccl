{
 "cells": [
  {
   "cell_type": "code",
   "execution_count": 1,
   "metadata": {},
   "outputs": [],
   "source": [
    "from dask.distributed import Client\n",
    "import os\n",
    "\n",
    "import dask"
   ]
  },
  {
   "cell_type": "markdown",
   "metadata": {},
   "source": [
    "If you have an existing Dask cluster running already, set the scheduler address below. Otherwise, leave it to `None` and a local cluster will be created."
   ]
  },
  {
   "cell_type": "code",
   "execution_count": 2,
   "metadata": {},
   "outputs": [
    {
     "name": "stderr",
     "output_type": "stream",
     "text": [
      "/raid/cjnolet/cuml5/lib/python3.7/site-packages/distributed/bokeh/core.py:74: UserWarning: \n",
      "Port 8787 is already in use. \n",
      "Perhaps you already have a cluster running?\n",
      "Hosting the diagnostics dashboard on a random port instead.\n",
      "  warnings.warn(\"\\n\" + msg)\n"
     ]
    },
    {
     "data": {
      "text/html": [
       "<table style=\"border: 2px solid white;\">\n",
       "<tr>\n",
       "<td style=\"vertical-align: top; border: 0px solid white\">\n",
       "<h3>Client</h3>\n",
       "<ul>\n",
       "  <li><b>Scheduler: </b>tcp://127.0.0.1:36097\n",
       "  <li><b>Dashboard: </b><a href='http://127.0.0.1:45869/status' target='_blank'>http://127.0.0.1:45869/status</a>\n",
       "</ul>\n",
       "</td>\n",
       "<td style=\"vertical-align: top; border: 0px solid white\">\n",
       "<h3>Cluster</h3>\n",
       "<ul>\n",
       "  <li><b>Workers: </b>8</li>\n",
       "  <li><b>Cores: </b>8</li>\n",
       "  <li><b>Memory: </b>540.95 GB</li>\n",
       "</ul>\n",
       "</td>\n",
       "</tr>\n",
       "</table>"
      ],
      "text/plain": [
       "<Client: scheduler='tcp://127.0.0.1:36097' processes=8 cores=8>"
      ]
     },
     "execution_count": 2,
     "metadata": {},
     "output_type": "execute_result"
    }
   ],
   "source": [
    "scheduler_address = None #\"tcp://10.2.168.161:8786\"\n",
    "\n",
    "if scheduler_address is None:\n",
    "    from dask_cuda import LocalCUDACluster\n",
    "    cluster = LocalCUDACluster()\n",
    "    c = Client(cluster)\n",
    "else:\n",
    "    c = Client(scheduler_address)\n",
    "c"
   ]
  },
  {
   "cell_type": "code",
   "execution_count": 3,
   "metadata": {},
   "outputs": [],
   "source": [
    "from nccl_example import nccl, inject_comms_on_handle\n",
    "from cuml.common.handle import Handle"
   ]
  },
  {
   "cell_type": "code",
   "execution_count": 4,
   "metadata": {},
   "outputs": [],
   "source": [
    "from dask import delayed\n",
    "import dask.dataframe as dd\n",
    "from dask.distributed import wait\n",
    "\n",
    "import numba.cuda\n",
    "import cudf\n",
    "import numpy as np"
   ]
  },
  {
   "cell_type": "code",
   "execution_count": 5,
   "metadata": {},
   "outputs": [],
   "source": [
    "from tornado import gen\n",
    "from dask.distributed import default_client\n",
    "from toolz import first\n",
    "import logging\n",
    "import dask.dataframe as dd\n",
    "\n",
    "import dask_cudf\n",
    "import numpy as np\n",
    "import cudf\n",
    "import pandas as pd\n",
    "\n",
    "from dask.distributed import wait\n",
    "\n",
    "\n",
    "def parse_host_port(address):\n",
    "    if '://' in address:\n",
    "        address = address.rsplit('://', 1)[1]\n",
    "    host, port = address.split(':')\n",
    "    port = int(port)\n",
    "    return host, port\n",
    "\n",
    "import dask_cudf\n",
    "\n",
    "\n",
    "@gen.coroutine\n",
    "def extract_ddf_partitions(ddf):\n",
    "    \"\"\"\n",
    "    Given a Dask cuDF, return a tuple with (worker, future) for each partition\n",
    "    \"\"\"\n",
    "    client = default_client()\n",
    "    \n",
    "    delayed_ddf = ddf.to_delayed()\n",
    "    parts = client.compute(delayed_ddf)\n",
    "    yield wait(parts)\n",
    "    \n",
    "    key_to_part_dict = dict([(str(part.key), part) for part in parts])\n",
    "    who_has = yield client.who_has(parts)\n",
    "\n",
    "    worker_map = []\n",
    "    for key, workers in who_has.items():\n",
    "        worker = parse_host_port(first(workers))\n",
    "        worker_map.append((worker, key_to_part_dict[key]))\n",
    "\n",
    "    gpu_data = [(worker, part) for worker, part in worker_map]\n",
    "\n",
    "    yield wait(gpu_data)\n",
    "\n",
    "    raise gen.Return(gpu_data)\n",
    "    \n",
    "    \n",
    "def create_df(f, m, n, c):\n",
    "    \"\"\"\n",
    "    Generates a cudf of the given size with sklearn's make_blobs \n",
    "    \"\"\"\n",
    "    from sklearn.datasets.samples_generator import make_blobs\n",
    "    X, y = make_blobs(n_samples=m, centers=c, n_features=n, random_state=0)\n",
    "    ret = cudf.DataFrame([(i,\n",
    "                           X[:, i].astype(np.float64)) for i in range(n)],\n",
    "                         index=cudf.dataframe.RangeIndex(f * m,\n",
    "                                                         f * m + m, 1))\n",
    "    return ret\n",
    "\n",
    "def get_meta(df):\n",
    "    ret = df.iloc[:0]\n",
    "    return ret\n",
    "\n",
    "def gen_dask_cudf(nrows, ncols, clusters):\n",
    "    workers = c.has_what().keys()\n",
    "\n",
    "    # Create dfs on each worker (gpu)\n",
    "    dfs = [c.submit(create_df, n, nrows, ncols, clusters, workers=[worker])\n",
    "           for worker, n in list(zip(workers, list(range(len(workers)))))]\n",
    "    # Wait for completion\n",
    "    wait(dfs)\n",
    "\n",
    "    meta = c.submit(get_meta, dfs[0]).result()\n",
    "    return dask_cudf.from_delayed(dfs, meta=meta)"
   ]
  },
  {
   "cell_type": "code",
   "execution_count": 6,
   "metadata": {},
   "outputs": [],
   "source": [
    "class NCCLBase:\n",
    "    \n",
    "    def __init__(self):\n",
    "        self.client = default_client()\n",
    "        self.init_comms()\n",
    "        \n",
    "    def get_workers_(self):\n",
    "        \"\"\"\n",
    "        Return the list of workers parsed as [(address, port)]\n",
    "        \"\"\"\n",
    "        return list(map(lambda x: parse_host_port(x), self.client.has_what().keys()))\n",
    "    \n",
    "    def get_workers_(self):\n",
    "        \"\"\"\n",
    "        Return the list of workers parsed as [(address, port)]\n",
    "        \"\"\"\n",
    "        return list(map(lambda x: parse_host_port(x), self.client.has_what().keys()))\n",
    "\n",
    "        \n",
    "    @staticmethod\n",
    "    def func_init_comms(workerId, nWorkers, uniqueId):\n",
    "        \"\"\"\n",
    "        Initialize ncclComm_t on worker\n",
    "        \"\"\"\n",
    "        w = dask.distributed.get_worker()\n",
    "\n",
    "        # 1. initialize any necessary comms on each worker\n",
    "        n = nccl()\n",
    "        n.init(nWorkers, uniqueId, workerId)\n",
    "\n",
    "        # 2. Initialize cumlCommunicator and inject into cumlHandle\n",
    "        handle = Handle()\n",
    "        inject_comms_on_handle(handle, n, nWorkers, workerId)\n",
    "\n",
    "        # Each worker will hold onto (nccl, handle) in self.clique\n",
    "        return (n, handle)\n",
    "    \n",
    "    def init_comms(self):\n",
    "        \"\"\"\n",
    "        Use nccl-py to initialize ncclComm_t on each worker and \n",
    "        store the futures for this instance. \n",
    "        \"\"\"\n",
    "        uniqueId = nccl.get_unique_id()\n",
    "\n",
    "        workers = self.get_workers_()\n",
    "        workers_indices = list(zip(workers, range(len(workers))))\n",
    "\n",
    "        self.clique = [(idx, worker, self.client.submit(KMeans.func_init_comms, \n",
    "                                           idx, \n",
    "                                           len(workers), \n",
    "                                           uniqueId,\n",
    "                                           workers=[worker]))\n",
    "             for worker, idx in workers_indices]\n",
    "        "
   ]
  },
  {
   "cell_type": "code",
   "execution_count": 7,
   "metadata": {},
   "outputs": [],
   "source": [
    "from cuml.cluster import KMeans as cumlKMeans\n",
    "\n",
    "class KMeans(NCCLBase):\n",
    "    \n",
    "    def __init__(self, n_clusters = 8, init_method = \"random\", verbose = 0):\n",
    "        \n",
    "        super(KMeans, self).__init__()\n",
    "        self.init_(n_clusters = n_clusters, init_method = init_method, verbose = verbose)\n",
    "    \n",
    "    \n",
    "    @staticmethod\n",
    "    def func_build_kmeans_(a, n_clusters, init_method, verbose, wid):\n",
    "        \"\"\"\n",
    "        Create local KMeans instance on worker\n",
    "        \"\"\"\n",
    "        w = dask.distributed.get_worker()\n",
    "        \n",
    "        nccl_inst, handle = a\n",
    "\n",
    "        return cumlKMeans(handle = handle, init = init_method, n_clusters = n_clusters, verbose = verbose)\n",
    "    \n",
    "    @staticmethod\n",
    "    def get_meta(df):\n",
    "        return df.iloc[:0]\n",
    "    \n",
    "    @staticmethod\n",
    "    def func_fit(model, df, wid): return model.fit(df)\n",
    "    \n",
    "    @staticmethod\n",
    "    def func_predict(model, df, wid): return model.predict(df)\n",
    "\n",
    "    \n",
    "    def fit(self, X):\n",
    "        \"\"\"\n",
    "        An end to end example to mimic a typical Dask cuML algorithm using\n",
    "        OPG semantics. This function is executed on the client.\n",
    "        \n",
    "        The following steps are taken with Dask cuDF as input:\n",
    "        1. Co-locate Dask cuDF partitions with nccl communicator and our demo \"model\" on each worker\n",
    "        2. Run the algorithm, extracting the Numba device memory pointer for each partition\n",
    "           and allocating necessary output memory on device for constructing the cuDF \n",
    "           partition(s) that will be returned to the user. \n",
    "        3. Construct Dask cuDF from the futures containing the cuDFs returned from local \n",
    "           \"algorithm\" functions on each worker. \n",
    "        \"\"\"\n",
    "        # Keep the futures around so the GPU memory doesn't get\n",
    "        # deallocated on the workers.\n",
    "        gpu_futures = c.sync(extract_ddf_partitions, X)\n",
    "\n",
    "        worker_model_map = dict(map(lambda x: (x[0], x[1]), self.kmeans))\n",
    "        worker_rank_map = self.worker_ranks()\n",
    "\n",
    "        # Run our function to fit on all the workers \n",
    "        f = [c.submit(KMeans.func_fit, # Function to run on worker\n",
    "                      worker_model_map[w],               # tuple(nccl_comm, KMeans instance)\n",
    "                      f,                                 # Input DataFrame partition\n",
    "                      worker_rank_map[w])                # Makes sure all workers call function \n",
    "             for w, f in gpu_futures] \n",
    "        wait(f)\n",
    "        \n",
    "    def predict(self, X):\n",
    "        \n",
    "        # Keep the futures around so the GPU memory doesn't get\n",
    "        # deallocated on the workers.\n",
    "        gpu_futures = c.sync(extract_ddf_partitions, X)\n",
    "\n",
    "        worker_model_map = dict(map(lambda x: (x[0], x[1]), self.kmeans))\n",
    "        worker_rank_map = self.worker_ranks()\n",
    "\n",
    "        # Run our function to predict on all the workers\n",
    "        f = [c.submit(KMeans.func_predict,               # Function to run on worker\n",
    "                      worker_model_map[w],               # tuple(nccl_comm, KMeans instance)\n",
    "                      f,                                 # Input DataFrame partition\n",
    "                      worker_rank_map[w])                # Makes sure all workers call function \n",
    "             for w, f in gpu_futures] \n",
    "        wait(f)\n",
    "        \n",
    "        # Convert result back into a dask_cudf\n",
    "        dfs = [d for d in f if d.type != type(None)]\n",
    "        meta = c.submit(KMeans.get_meta, dfs[0]).result()\n",
    "        ddf = dd.from_delayed(dfs, meta=meta)\n",
    "        \n",
    "        return ddf\n",
    "    \n",
    "    def fit_predict(self, X):\n",
    "        self.fit(X)\n",
    "        return self.predict(X)\n",
    "\n",
    "    def worker_ranks(self):\n",
    "        \"\"\"\n",
    "        Builds a dictionary of { (worker_address, worker_port) : worker_rank }\n",
    "        \"\"\"\n",
    "        return dict(list(map(lambda x: (x[1], x[0]), self.clique)))\n",
    "\n",
    "\n",
    "    def init_(self, n_clusters, init_method, verbose = 0):\n",
    "        \"\"\"\n",
    "        Creates local kmeans instance on each worker\n",
    "        \"\"\"\n",
    "        self.kmeans = [(w, c.submit(KMeans.func_build_kmeans_, \n",
    "                                    a, n_clusters, init_method, verbose, i, \n",
    "                                    workers=[w])) for i, w, a in self.clique]\n",
    "        wait(self.kmeans)"
   ]
  },
  {
   "cell_type": "code",
   "execution_count": 8,
   "metadata": {},
   "outputs": [],
   "source": [
    "n_clusters = 10"
   ]
  },
  {
   "cell_type": "markdown",
   "metadata": {},
   "source": [
    "First, a Dask-cuML `KMeans` instance is created, which initializes it's own NCCL clique"
   ]
  },
  {
   "cell_type": "code",
   "execution_count": 9,
   "metadata": {},
   "outputs": [],
   "source": [
    "demo = KMeans(n_clusters, init_method = \"random\", verbose = 1)"
   ]
  },
  {
   "cell_type": "markdown",
   "metadata": {},
   "source": [
    "Print out the ranks assigned to the workers in the NCCL clique"
   ]
  },
  {
   "cell_type": "code",
   "execution_count": 10,
   "metadata": {},
   "outputs": [
    {
     "data": {
      "text/plain": [
       "{('127.0.0.1', 34235): 0,\n",
       " ('127.0.0.1', 34498): 1,\n",
       " ('127.0.0.1', 34687): 2,\n",
       " ('127.0.0.1', 36540): 3,\n",
       " ('127.0.0.1', 40261): 4,\n",
       " ('127.0.0.1', 41791): 5,\n",
       " ('127.0.0.1', 42878): 6,\n",
       " ('127.0.0.1', 46195): 7}"
      ]
     },
     "execution_count": 10,
     "metadata": {},
     "output_type": "execute_result"
    }
   ],
   "source": [
    "demo.worker_ranks()"
   ]
  },
  {
   "cell_type": "markdown",
   "metadata": {},
   "source": [
    "Crate a Dask cuDF using sklearn's `make_blobs` for testing"
   ]
  },
  {
   "cell_type": "code",
   "execution_count": 11,
   "metadata": {},
   "outputs": [],
   "source": [
    "X = gen_dask_cudf(10, 50, 8)"
   ]
  },
  {
   "cell_type": "markdown",
   "metadata": {},
   "source": [
    "Demonstrate we have one cuDF partition per worker"
   ]
  },
  {
   "cell_type": "code",
   "execution_count": 12,
   "metadata": {},
   "outputs": [
    {
     "data": {
      "text/plain": [
       "{'tcp://127.0.0.1:34235': ('func_build_kmeans_-ddb2496c0110f3968fbf4c1a14b356fe',\n",
       "  'func_init_comms-73fcd2d0a0cfebe72d1df3d4ed12a1d9',\n",
       "  'create_df-9cb693d1c092136f9c8843b4d3341508'),\n",
       " 'tcp://127.0.0.1:34498': ('func_init_comms-f6caf1095f47cb275cf8e8c0a330ac3c',\n",
       "  'func_build_kmeans_-34bc88c7706bbaa413af2c167904c8b5',\n",
       "  'create_df-46e12f8f08f37c3a28b4f105d8540e24'),\n",
       " 'tcp://127.0.0.1:34687': ('func_init_comms-0ba14a7e060cf642473a6206e34ef645',\n",
       "  'create_df-843d18bf29374c0399dc7b65fdff838c',\n",
       "  'func_build_kmeans_-043ba23bf430e9cdd7b3fd25a3d703dc'),\n",
       " 'tcp://127.0.0.1:36540': ('func_build_kmeans_-5bae078907f5d2bcf8a8db67e3009feb',\n",
       "  'create_df-1b191bffd30470a97402e6826fce58a4',\n",
       "  'func_init_comms-70629aac16736b6494c23e88a169c3a1'),\n",
       " 'tcp://127.0.0.1:40261': ('create_df-7120cd2ba58cc66818613cf9dfd9642d',\n",
       "  'func_build_kmeans_-7fdf1e9798aa57ea660e3485d97e6a0b',\n",
       "  'func_init_comms-6e2857051a8e193201308bfd145bfed8'),\n",
       " 'tcp://127.0.0.1:41791': ('func_build_kmeans_-7d1f5c01ef241f792b00391fbd928546',\n",
       "  'create_df-105a1058c69f081fbd8ff0e595a6c42d',\n",
       "  'func_init_comms-d0308e768d72478a49d7cd15472804a5'),\n",
       " 'tcp://127.0.0.1:42878': ('create_df-beef96c95072b9490c335f3851307303',\n",
       "  'func_init_comms-a1b830366f6695d02511fff0f182abd1',\n",
       "  'func_build_kmeans_-b0a7253f0c9124437ad510cac47bd022'),\n",
       " 'tcp://127.0.0.1:46195': ('func_build_kmeans_-72f98f077111cebe9285a2628110b762',\n",
       "  'func_init_comms-65681772c84440322bf47f0de6d06fc3',\n",
       "  'create_df-d51668f10197f0423cfd756e73ab6139')}"
      ]
     },
     "execution_count": 12,
     "metadata": {},
     "output_type": "execute_result"
    }
   ],
   "source": [
    "c.has_what()"
   ]
  },
  {
   "cell_type": "markdown",
   "metadata": {},
   "source": [
    "Fit the KMeans MNMG model"
   ]
  },
  {
   "cell_type": "code",
   "execution_count": 13,
   "metadata": {},
   "outputs": [
    {
     "ename": "NameError",
     "evalue": "name 'random' is not defined",
     "output_type": "error",
     "traceback": [
      "\u001b[0;31m---------------------------------------------------------------------------\u001b[0m",
      "\u001b[0;31mNameError\u001b[0m                                 Traceback (most recent call last)",
      "\u001b[0;32m<ipython-input-13-f16982c012b7>\u001b[0m in \u001b[0;36m<module>\u001b[0;34m\u001b[0m\n\u001b[0;32m----> 1\u001b[0;31m \u001b[0mdemo\u001b[0m\u001b[0;34m.\u001b[0m\u001b[0mfit\u001b[0m\u001b[0;34m(\u001b[0m\u001b[0mX\u001b[0m\u001b[0;34m)\u001b[0m\u001b[0;34m\u001b[0m\u001b[0;34m\u001b[0m\u001b[0m\n\u001b[0m",
      "\u001b[0;32m<ipython-input-7-21444b52bdde>\u001b[0m in \u001b[0;36mfit\u001b[0;34m(self, X)\u001b[0m\n\u001b[1;32m     55\u001b[0m                       \u001b[0mf\u001b[0m\u001b[0;34m,\u001b[0m                                 \u001b[0;31m# Input DataFrame partition\u001b[0m\u001b[0;34m\u001b[0m\u001b[0;34m\u001b[0m\u001b[0m\n\u001b[1;32m     56\u001b[0m                       random.random())                   # Makes sure all workers call function \n\u001b[0;32m---> 57\u001b[0;31m              for w, f in gpu_futures] \n\u001b[0m\u001b[1;32m     58\u001b[0m         \u001b[0mwait\u001b[0m\u001b[0;34m(\u001b[0m\u001b[0mf\u001b[0m\u001b[0;34m)\u001b[0m\u001b[0;34m\u001b[0m\u001b[0;34m\u001b[0m\u001b[0m\n\u001b[1;32m     59\u001b[0m \u001b[0;34m\u001b[0m\u001b[0m\n",
      "\u001b[0;32m<ipython-input-7-21444b52bdde>\u001b[0m in \u001b[0;36m<listcomp>\u001b[0;34m(.0)\u001b[0m\n\u001b[1;32m     55\u001b[0m                       \u001b[0mf\u001b[0m\u001b[0;34m,\u001b[0m                                 \u001b[0;31m# Input DataFrame partition\u001b[0m\u001b[0;34m\u001b[0m\u001b[0;34m\u001b[0m\u001b[0m\n\u001b[1;32m     56\u001b[0m                       random.random())                   # Makes sure all workers call function \n\u001b[0;32m---> 57\u001b[0;31m              for w, f in gpu_futures] \n\u001b[0m\u001b[1;32m     58\u001b[0m         \u001b[0mwait\u001b[0m\u001b[0;34m(\u001b[0m\u001b[0mf\u001b[0m\u001b[0;34m)\u001b[0m\u001b[0;34m\u001b[0m\u001b[0;34m\u001b[0m\u001b[0m\n\u001b[1;32m     59\u001b[0m \u001b[0;34m\u001b[0m\u001b[0m\n",
      "\u001b[0;31mNameError\u001b[0m: name 'random' is not defined"
     ]
    }
   ],
   "source": [
    "demo.fit(X)"
   ]
  },
  {
   "cell_type": "markdown",
   "metadata": {},
   "source": [
    "Predict labels for the same inputs we trained on"
   ]
  },
  {
   "cell_type": "code",
   "execution_count": 14,
   "metadata": {},
   "outputs": [],
   "source": [
    "result = demo.predict(X)"
   ]
  },
  {
   "cell_type": "code",
   "execution_count": 15,
   "metadata": {},
   "outputs": [
    {
     "name": "stdout",
     "output_type": "stream",
     "text": [
      "<dask_cudf.Series | 16 tasks | 8 npartitions>\n"
     ]
    }
   ],
   "source": [
    "print(str(result))"
   ]
  },
  {
   "cell_type": "code",
   "execution_count": 16,
   "metadata": {},
   "outputs": [
    {
     "name": "stdout",
     "output_type": "stream",
     "text": [
      "0    0\n",
      "1    2\n",
      "2    2\n",
      "3    2\n",
      "4    2\n",
      "5    2\n",
      "6    5\n",
      "7    2\n",
      "8    0\n",
      "9    1\n",
      "[70 more rows]\n",
      "dtype: int32\n"
     ]
    }
   ],
   "source": [
    "print(str(result.compute()))"
   ]
  }
 ],
 "metadata": {
  "kernelspec": {
   "display_name": "cuml5 [conda env:cuml5]",
   "language": "python",
   "name": "conda-env-cuml5-py"
  },
  "language_info": {
   "codemirror_mode": {
    "name": "ipython",
    "version": 3
   },
   "file_extension": ".py",
   "mimetype": "text/x-python",
   "name": "python",
   "nbconvert_exporter": "python",
   "pygments_lexer": "ipython3",
   "version": "3.7.3"
  }
 },
 "nbformat": 4,
 "nbformat_minor": 2
}
